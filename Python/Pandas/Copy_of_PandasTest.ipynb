{
  "nbformat": 4,
  "nbformat_minor": 0,
  "metadata": {
    "colab": {
      "name": "Copy of PandasTest.ipynb",
      "provenance": [],
      "collapsed_sections": [],
      "authorship_tag": "ABX9TyPj8l73Cv3uHaZx43+eZobZ",
      "include_colab_link": true
    },
    "kernelspec": {
      "name": "python3",
      "display_name": "Python 3"
    }
  },
  "cells": [
    {
      "cell_type": "markdown",
      "metadata": {
        "id": "view-in-github",
        "colab_type": "text"
      },
      "source": [
        "<a href=\"https://colab.research.google.com/github/K-Neg/Brincando_com_dados/blob/master/Copy_of_PandasTest.ipynb\" target=\"_parent\"><img src=\"https://colab.research.google.com/assets/colab-badge.svg\" alt=\"Open In Colab\"/></a>"
      ]
    },
    {
      "cell_type": "markdown",
      "metadata": {
        "id": "0nO-kIBIfd8b",
        "colab_type": "text"
      },
      "source": [
        "# #pip import e pack e etc etc"
      ]
    },
    {
      "cell_type": "code",
      "metadata": {
        "id": "kY6G7uODcvNM",
        "colab_type": "code",
        "colab": {}
      },
      "source": [
        "import pandas as pd\n",
        "import matplotlib.pyplot as plt\n",
        "import seaborn as sns\n",
        "\n",
        "sns.set_style()\n"
      ],
      "execution_count": 0,
      "outputs": []
    },
    {
      "cell_type": "markdown",
      "metadata": {
        "id": "QBECpUZEgK96",
        "colab_type": "text"
      },
      "source": [
        "Obter dados"
      ]
    },
    {
      "cell_type": "code",
      "metadata": {
        "id": "RyDoBtOugOhx",
        "colab_type": "code",
        "colab": {}
      },
      "source": [
        "# endereço dos dados originais http://data.insideairbnb.com/brazil/rj/rio-de-janeiro/2019-11-22/visualisations/listings.csv\n",
        "df = pd.read_csv('http://data.insideairbnb.com/brazil/rj/rio-de-janeiro/2019-11-22/visualisations/listings.csv')\n"
      ],
      "execution_count": 0,
      "outputs": []
    },
    {
      "cell_type": "markdown",
      "metadata": {
        "id": "LwydkZRMg56a",
        "colab_type": "text"
      },
      "source": [
        "Exiber o começo para verificar a estrutura\n"
      ]
    },
    {
      "cell_type": "code",
      "metadata": {
        "id": "EGdy79W1g9oi",
        "colab_type": "code",
        "outputId": "02eb2eb9-c29d-4577-d68b-659aa0a26fd6",
        "colab": {
          "base_uri": "https://localhost:8080/",
          "height": 445
        }
      },
      "source": [
        "df.head()"
      ],
      "execution_count": 4,
      "outputs": [
        {
          "output_type": "execute_result",
          "data": {
            "text/html": [
              "<div>\n",
              "<style scoped>\n",
              "    .dataframe tbody tr th:only-of-type {\n",
              "        vertical-align: middle;\n",
              "    }\n",
              "\n",
              "    .dataframe tbody tr th {\n",
              "        vertical-align: top;\n",
              "    }\n",
              "\n",
              "    .dataframe thead th {\n",
              "        text-align: right;\n",
              "    }\n",
              "</style>\n",
              "<table border=\"1\" class=\"dataframe\">\n",
              "  <thead>\n",
              "    <tr style=\"text-align: right;\">\n",
              "      <th></th>\n",
              "      <th>id</th>\n",
              "      <th>name</th>\n",
              "      <th>host_id</th>\n",
              "      <th>host_name</th>\n",
              "      <th>neighbourhood_group</th>\n",
              "      <th>neighbourhood</th>\n",
              "      <th>latitude</th>\n",
              "      <th>longitude</th>\n",
              "      <th>room_type</th>\n",
              "      <th>price</th>\n",
              "      <th>minimum_nights</th>\n",
              "      <th>number_of_reviews</th>\n",
              "      <th>last_review</th>\n",
              "      <th>reviews_per_month</th>\n",
              "      <th>calculated_host_listings_count</th>\n",
              "      <th>availability_365</th>\n",
              "    </tr>\n",
              "  </thead>\n",
              "  <tbody>\n",
              "    <tr>\n",
              "      <th>0</th>\n",
              "      <td>17878</td>\n",
              "      <td>Very Nice 2Br - Copacabana - WiFi</td>\n",
              "      <td>68997</td>\n",
              "      <td>Matthias</td>\n",
              "      <td>NaN</td>\n",
              "      <td>Copacabana</td>\n",
              "      <td>-22.96592</td>\n",
              "      <td>-43.17896</td>\n",
              "      <td>Entire home/apt</td>\n",
              "      <td>332</td>\n",
              "      <td>4</td>\n",
              "      <td>243</td>\n",
              "      <td>2019-11-11</td>\n",
              "      <td>2.13</td>\n",
              "      <td>1</td>\n",
              "      <td>303</td>\n",
              "    </tr>\n",
              "    <tr>\n",
              "      <th>1</th>\n",
              "      <td>25026</td>\n",
              "      <td>Beautiful Modern Decorated Studio in Copa</td>\n",
              "      <td>102840</td>\n",
              "      <td>Viviane</td>\n",
              "      <td>NaN</td>\n",
              "      <td>Copacabana</td>\n",
              "      <td>-22.97712</td>\n",
              "      <td>-43.19045</td>\n",
              "      <td>Entire home/apt</td>\n",
              "      <td>160</td>\n",
              "      <td>7</td>\n",
              "      <td>235</td>\n",
              "      <td>2019-10-08</td>\n",
              "      <td>2.04</td>\n",
              "      <td>3</td>\n",
              "      <td>119</td>\n",
              "    </tr>\n",
              "    <tr>\n",
              "      <th>2</th>\n",
              "      <td>31560</td>\n",
              "      <td>NICE &amp; COZY 1BDR - IPANEMA BEACH</td>\n",
              "      <td>135635</td>\n",
              "      <td>Renata</td>\n",
              "      <td>NaN</td>\n",
              "      <td>Ipanema</td>\n",
              "      <td>-22.98302</td>\n",
              "      <td>-43.21427</td>\n",
              "      <td>Entire home/apt</td>\n",
              "      <td>273</td>\n",
              "      <td>2</td>\n",
              "      <td>271</td>\n",
              "      <td>2019-11-21</td>\n",
              "      <td>2.38</td>\n",
              "      <td>1</td>\n",
              "      <td>88</td>\n",
              "    </tr>\n",
              "    <tr>\n",
              "      <th>3</th>\n",
              "      <td>35636</td>\n",
              "      <td>Cosy flat close to Ipanema beach</td>\n",
              "      <td>153232</td>\n",
              "      <td>Patricia</td>\n",
              "      <td>NaN</td>\n",
              "      <td>Ipanema</td>\n",
              "      <td>-22.98816</td>\n",
              "      <td>-43.19359</td>\n",
              "      <td>Entire home/apt</td>\n",
              "      <td>378</td>\n",
              "      <td>2</td>\n",
              "      <td>169</td>\n",
              "      <td>2019-11-13</td>\n",
              "      <td>2.28</td>\n",
              "      <td>1</td>\n",
              "      <td>85</td>\n",
              "    </tr>\n",
              "    <tr>\n",
              "      <th>4</th>\n",
              "      <td>35764</td>\n",
              "      <td>COPACABANA SEA BREEZE  -  RIO - 20 X Superhost</td>\n",
              "      <td>153691</td>\n",
              "      <td>Patricia Miranda &amp; Paulo</td>\n",
              "      <td>NaN</td>\n",
              "      <td>Copacabana</td>\n",
              "      <td>-22.98127</td>\n",
              "      <td>-43.19046</td>\n",
              "      <td>Entire home/apt</td>\n",
              "      <td>130</td>\n",
              "      <td>3</td>\n",
              "      <td>316</td>\n",
              "      <td>2019-11-16</td>\n",
              "      <td>2.84</td>\n",
              "      <td>1</td>\n",
              "      <td>128</td>\n",
              "    </tr>\n",
              "  </tbody>\n",
              "</table>\n",
              "</div>"
            ],
            "text/plain": [
              "      id  ... availability_365\n",
              "0  17878  ...              303\n",
              "1  25026  ...              119\n",
              "2  31560  ...               88\n",
              "3  35636  ...               85\n",
              "4  35764  ...              128\n",
              "\n",
              "[5 rows x 16 columns]"
            ]
          },
          "metadata": {
            "tags": []
          },
          "execution_count": 4
        }
      ]
    },
    {
      "cell_type": "markdown",
      "metadata": {
        "id": "kJZCekrEhFLR",
        "colab_type": "text"
      },
      "source": [
        "Volume de dados\n"
      ]
    },
    {
      "cell_type": "code",
      "metadata": {
        "id": "wKzAcUxZ7dwj",
        "colab_type": "code",
        "colab": {
          "base_uri": "https://localhost:8080/",
          "height": 34
        },
        "outputId": "4dde5cfa-33c8-405c-fefc-c873e82d14b7"
      },
      "source": [
        "df.shape"
      ],
      "execution_count": 5,
      "outputs": [
        {
          "output_type": "execute_result",
          "data": {
            "text/plain": [
              "(33715, 16)"
            ]
          },
          "metadata": {
            "tags": []
          },
          "execution_count": 5
        }
      ]
    },
    {
      "cell_type": "markdown",
      "metadata": {
        "id": "jT_ehXzs7fhZ",
        "colab_type": "text"
      },
      "source": [
        "Porcentagem de ausentes"
      ]
    },
    {
      "cell_type": "code",
      "metadata": {
        "id": "BkrLB4pL7i3q",
        "colab_type": "code",
        "colab": {
          "base_uri": "https://localhost:8080/",
          "height": 306
        },
        "outputId": "39968992-6364-424e-f23f-95d2dcfd8045"
      },
      "source": [
        "df.isnull().sum() / df.shape[0]"
      ],
      "execution_count": 8,
      "outputs": [
        {
          "output_type": "execute_result",
          "data": {
            "text/plain": [
              "id                                0.000000\n",
              "name                              0.001809\n",
              "host_id                           0.000000\n",
              "host_name                         0.000593\n",
              "neighbourhood_group               1.000000\n",
              "neighbourhood                     0.000000\n",
              "latitude                          0.000000\n",
              "longitude                         0.000000\n",
              "room_type                         0.000000\n",
              "price                             0.000000\n",
              "minimum_nights                    0.000000\n",
              "number_of_reviews                 0.000000\n",
              "last_review                       0.432033\n",
              "reviews_per_month                 0.432033\n",
              "calculated_host_listings_count    0.000000\n",
              "availability_365                  0.000000\n",
              "dtype: float64"
            ]
          },
          "metadata": {
            "tags": []
          },
          "execution_count": 8
        }
      ]
    },
    {
      "cell_type": "markdown",
      "metadata": {
        "id": "t7vgzDMG7pgS",
        "colab_type": "text"
      },
      "source": [
        "Distribuição das variaveis"
      ]
    },
    {
      "cell_type": "code",
      "metadata": {
        "id": "HqkzABDR7rpR",
        "colab_type": "code",
        "colab": {
          "base_uri": "https://localhost:8080/",
          "height": 937
        },
        "outputId": "95e0beba-f6ef-4e61-b52e-34f885fd92a7"
      },
      "source": [
        "#espessura , XY\n",
        "df.hist(bins=14,figsize=(12,12))"
      ],
      "execution_count": 9,
      "outputs": [
        {
          "output_type": "execute_result",
          "data": {
            "text/plain": [
              "array([[<matplotlib.axes._subplots.AxesSubplot object at 0x7f132b7ef588>,\n",
              "        <matplotlib.axes._subplots.AxesSubplot object at 0x7f132b6ce0f0>,\n",
              "        <matplotlib.axes._subplots.AxesSubplot object at 0x7f132b700240>],\n",
              "       [<matplotlib.axes._subplots.AxesSubplot object at 0x7f132b6b2390>,\n",
              "        <matplotlib.axes._subplots.AxesSubplot object at 0x7f132b6624e0>,\n",
              "        <matplotlib.axes._subplots.AxesSubplot object at 0x7f132b612630>],\n",
              "       [<matplotlib.axes._subplots.AxesSubplot object at 0x7f132b808940>,\n",
              "        <matplotlib.axes._subplots.AxesSubplot object at 0x7f132b5e1a58>,\n",
              "        <matplotlib.axes._subplots.AxesSubplot object at 0x7f132b5e1a90>],\n",
              "       [<matplotlib.axes._subplots.AxesSubplot object at 0x7f132b5515c0>,\n",
              "        <matplotlib.axes._subplots.AxesSubplot object at 0x7f132b581b70>,\n",
              "        <matplotlib.axes._subplots.AxesSubplot object at 0x7f132b53e160>]],\n",
              "      dtype=object)"
            ]
          },
          "metadata": {
            "tags": []
          },
          "execution_count": 9
        },
        {
          "output_type": "display_data",
          "data": {
            "image/png": "[encoded data removed]",
            "text/plain": [
              "<Figure size 864x864 with 12 Axes>"
            ]
          },
          "metadata": {
            "tags": []
          }
        }
      ]
    },
    {
      "cell_type": "markdown",
      "metadata": {
        "id": "nwOyE4cV8MP7",
        "colab_type": "text"
      },
      "source": [
        "Resumo - Estatitica basica sobre o dataframe"
      ]
    },
    {
      "cell_type": "code",
      "metadata": {
        "id": "BV_47LYG8JLJ",
        "colab_type": "code",
        "colab": {
          "base_uri": "https://localhost:8080/",
          "height": 297
        },
        "outputId": "dee02bcb-0ca3-4dd9-aa77-afb3056a4a53"
      },
      "source": [
        "df.describe()"
      ],
      "execution_count": 10,
      "outputs": [
        {
          "output_type": "execute_result",
          "data": {
            "text/html": [
              "<div>\n",
              "<style scoped>\n",
              "    .dataframe tbody tr th:only-of-type {\n",
              "        vertical-align: middle;\n",
              "    }\n",
              "\n",
              "    .dataframe tbody tr th {\n",
              "        vertical-align: top;\n",
              "    }\n",
              "\n",
              "    .dataframe thead th {\n",
              "        text-align: right;\n",
              "    }\n",
              "</style>\n",
              "<table border=\"1\" class=\"dataframe\">\n",
              "  <thead>\n",
              "    <tr style=\"text-align: right;\">\n",
              "      <th></th>\n",
              "      <th>id</th>\n",
              "      <th>host_id</th>\n",
              "      <th>neighbourhood_group</th>\n",
              "      <th>latitude</th>\n",
              "      <th>longitude</th>\n",
              "      <th>price</th>\n",
              "      <th>minimum_nights</th>\n",
              "      <th>number_of_reviews</th>\n",
              "      <th>reviews_per_month</th>\n",
              "      <th>calculated_host_listings_count</th>\n",
              "      <th>availability_365</th>\n",
              "    </tr>\n",
              "  </thead>\n",
              "  <tbody>\n",
              "    <tr>\n",
              "      <th>count</th>\n",
              "      <td>3.371500e+04</td>\n",
              "      <td>3.371500e+04</td>\n",
              "      <td>0.0</td>\n",
              "      <td>33715.000000</td>\n",
              "      <td>33715.000000</td>\n",
              "      <td>33715.000000</td>\n",
              "      <td>33715.000000</td>\n",
              "      <td>33715.000000</td>\n",
              "      <td>19149.000000</td>\n",
              "      <td>33715.000000</td>\n",
              "      <td>33715.000000</td>\n",
              "    </tr>\n",
              "    <tr>\n",
              "      <th>mean</th>\n",
              "      <td>1.837737e+07</td>\n",
              "      <td>7.333110e+07</td>\n",
              "      <td>NaN</td>\n",
              "      <td>-22.965208</td>\n",
              "      <td>-43.254228</td>\n",
              "      <td>651.860537</td>\n",
              "      <td>4.789826</td>\n",
              "      <td>9.374344</td>\n",
              "      <td>0.707232</td>\n",
              "      <td>5.996292</td>\n",
              "      <td>177.956251</td>\n",
              "    </tr>\n",
              "    <tr>\n",
              "      <th>std</th>\n",
              "      <td>1.182836e+07</td>\n",
              "      <td>7.577773e+07</td>\n",
              "      <td>NaN</td>\n",
              "      <td>0.035244</td>\n",
              "      <td>0.097488</td>\n",
              "      <td>1695.447098</td>\n",
              "      <td>22.640328</td>\n",
              "      <td>24.815311</td>\n",
              "      <td>0.927453</td>\n",
              "      <td>20.303420</td>\n",
              "      <td>149.766863</td>\n",
              "    </tr>\n",
              "    <tr>\n",
              "      <th>min</th>\n",
              "      <td>1.787800e+04</td>\n",
              "      <td>1.173900e+04</td>\n",
              "      <td>NaN</td>\n",
              "      <td>-23.073400</td>\n",
              "      <td>-43.737090</td>\n",
              "      <td>0.000000</td>\n",
              "      <td>1.000000</td>\n",
              "      <td>0.000000</td>\n",
              "      <td>0.010000</td>\n",
              "      <td>1.000000</td>\n",
              "      <td>0.000000</td>\n",
              "    </tr>\n",
              "    <tr>\n",
              "      <th>25%</th>\n",
              "      <td>1.026686e+07</td>\n",
              "      <td>1.431560e+07</td>\n",
              "      <td>NaN</td>\n",
              "      <td>-22.984710</td>\n",
              "      <td>-43.323360</td>\n",
              "      <td>151.000000</td>\n",
              "      <td>1.000000</td>\n",
              "      <td>0.000000</td>\n",
              "      <td>0.110000</td>\n",
              "      <td>1.000000</td>\n",
              "      <td>0.000000</td>\n",
              "    </tr>\n",
              "    <tr>\n",
              "      <th>50%</th>\n",
              "      <td>1.425308e+07</td>\n",
              "      <td>5.277714e+07</td>\n",
              "      <td>NaN</td>\n",
              "      <td>-22.970850</td>\n",
              "      <td>-43.200220</td>\n",
              "      <td>290.000000</td>\n",
              "      <td>2.000000</td>\n",
              "      <td>1.000000</td>\n",
              "      <td>0.340000</td>\n",
              "      <td>1.000000</td>\n",
              "      <td>165.000000</td>\n",
              "    </tr>\n",
              "    <tr>\n",
              "      <th>75%</th>\n",
              "      <td>2.991364e+07</td>\n",
              "      <td>9.143910e+07</td>\n",
              "      <td>NaN</td>\n",
              "      <td>-22.946725</td>\n",
              "      <td>-43.187085</td>\n",
              "      <td>600.000000</td>\n",
              "      <td>4.000000</td>\n",
              "      <td>6.000000</td>\n",
              "      <td>0.980000</td>\n",
              "      <td>3.000000</td>\n",
              "      <td>350.000000</td>\n",
              "    </tr>\n",
              "    <tr>\n",
              "      <th>max</th>\n",
              "      <td>4.029091e+07</td>\n",
              "      <td>3.111796e+08</td>\n",
              "      <td>NaN</td>\n",
              "      <td>-22.750380</td>\n",
              "      <td>-43.104060</td>\n",
              "      <td>41982.000000</td>\n",
              "      <td>1123.000000</td>\n",
              "      <td>372.000000</td>\n",
              "      <td>10.080000</td>\n",
              "      <td>205.000000</td>\n",
              "      <td>365.000000</td>\n",
              "    </tr>\n",
              "  </tbody>\n",
              "</table>\n",
              "</div>"
            ],
            "text/plain": [
              "                 id  ...  availability_365\n",
              "count  3.371500e+04  ...      33715.000000\n",
              "mean   1.837737e+07  ...        177.956251\n",
              "std    1.182836e+07  ...        149.766863\n",
              "min    1.787800e+04  ...          0.000000\n",
              "25%    1.026686e+07  ...          0.000000\n",
              "50%    1.425308e+07  ...        165.000000\n",
              "75%    2.991364e+07  ...        350.000000\n",
              "max    4.029091e+07  ...        365.000000\n",
              "\n",
              "[8 rows x 11 columns]"
            ]
          },
          "metadata": {
            "tags": []
          },
          "execution_count": 10
        }
      ]
    },
    {
      "cell_type": "markdown",
      "metadata": {
        "id": "qS0kbtfG8hsK",
        "colab_type": "text"
      },
      "source": [
        "Correlação basica"
      ]
    },
    {
      "cell_type": "code",
      "metadata": {
        "id": "CowP8hlN8PTq",
        "colab_type": "code",
        "colab": {
          "base_uri": "https://localhost:8080/",
          "height": 235
        },
        "outputId": "033b7710-4ab7-497a-a49b-7cea203b30de"
      },
      "source": [
        "df_clean = df\n",
        "cor = df_clean[['price','minimum_nights','number_of_reviews','reviews_per_month',\n",
        "                'calculated_host_listings_count','availability_365']].corr()\n",
        "display(cor)\n",
        "\n"
      ],
      "execution_count": 16,
      "outputs": [
        {
          "output_type": "display_data",
          "data": {
            "text/html": [
              "<div>\n",
              "<style scoped>\n",
              "    .dataframe tbody tr th:only-of-type {\n",
              "        vertical-align: middle;\n",
              "    }\n",
              "\n",
              "    .dataframe tbody tr th {\n",
              "        vertical-align: top;\n",
              "    }\n",
              "\n",
              "    .dataframe thead th {\n",
              "        text-align: right;\n",
              "    }\n",
              "</style>\n",
              "<table border=\"1\" class=\"dataframe\">\n",
              "  <thead>\n",
              "    <tr style=\"text-align: right;\">\n",
              "      <th></th>\n",
              "      <th>price</th>\n",
              "      <th>minimum_nights</th>\n",
              "      <th>number_of_reviews</th>\n",
              "      <th>reviews_per_month</th>\n",
              "      <th>calculated_host_listings_count</th>\n",
              "      <th>availability_365</th>\n",
              "    </tr>\n",
              "  </thead>\n",
              "  <tbody>\n",
              "    <tr>\n",
              "      <th>price</th>\n",
              "      <td>1.000000</td>\n",
              "      <td>0.030884</td>\n",
              "      <td>-0.085148</td>\n",
              "      <td>-0.095499</td>\n",
              "      <td>0.023943</td>\n",
              "      <td>-0.009526</td>\n",
              "    </tr>\n",
              "    <tr>\n",
              "      <th>minimum_nights</th>\n",
              "      <td>0.030884</td>\n",
              "      <td>1.000000</td>\n",
              "      <td>-0.028560</td>\n",
              "      <td>-0.037329</td>\n",
              "      <td>-0.005175</td>\n",
              "      <td>0.013052</td>\n",
              "    </tr>\n",
              "    <tr>\n",
              "      <th>number_of_reviews</th>\n",
              "      <td>-0.085148</td>\n",
              "      <td>-0.028560</td>\n",
              "      <td>1.000000</td>\n",
              "      <td>0.578046</td>\n",
              "      <td>-0.029723</td>\n",
              "      <td>0.018903</td>\n",
              "    </tr>\n",
              "    <tr>\n",
              "      <th>reviews_per_month</th>\n",
              "      <td>-0.095499</td>\n",
              "      <td>-0.037329</td>\n",
              "      <td>0.578046</td>\n",
              "      <td>1.000000</td>\n",
              "      <td>-0.022856</td>\n",
              "      <td>-0.033294</td>\n",
              "    </tr>\n",
              "    <tr>\n",
              "      <th>calculated_host_listings_count</th>\n",
              "      <td>0.023943</td>\n",
              "      <td>-0.005175</td>\n",
              "      <td>-0.029723</td>\n",
              "      <td>-0.022856</td>\n",
              "      <td>1.000000</td>\n",
              "      <td>0.085219</td>\n",
              "    </tr>\n",
              "    <tr>\n",
              "      <th>availability_365</th>\n",
              "      <td>-0.009526</td>\n",
              "      <td>0.013052</td>\n",
              "      <td>0.018903</td>\n",
              "      <td>-0.033294</td>\n",
              "      <td>0.085219</td>\n",
              "      <td>1.000000</td>\n",
              "    </tr>\n",
              "  </tbody>\n",
              "</table>\n",
              "</div>"
            ],
            "text/plain": [
              "                                   price  ...  availability_365\n",
              "price                           1.000000  ...         -0.009526\n",
              "minimum_nights                  0.030884  ...          0.013052\n",
              "number_of_reviews              -0.085148  ...          0.018903\n",
              "reviews_per_month              -0.095499  ...         -0.033294\n",
              "calculated_host_listings_count  0.023943  ...          0.085219\n",
              "availability_365               -0.009526  ...          1.000000\n",
              "\n",
              "[6 rows x 6 columns]"
            ]
          },
          "metadata": {
            "tags": []
          }
        }
      ]
    },
    {
      "cell_type": "code",
      "metadata": {
        "id": "8FH7_Q1N8vBt",
        "colab_type": "code",
        "colab": {
          "base_uri": "https://localhost:8080/",
          "height": 428
        },
        "outputId": "e1d9a116-5256-4580-e364-c4ef792e6f93"
      },
      "source": [
        "sns.heatmap(cor,cmap='BrBG',fmt ='.2f',square = True,linecolor='white',annot=True)"
      ],
      "execution_count": 18,
      "outputs": [
        {
          "output_type": "execute_result",
          "data": {
            "text/plain": [
              "<matplotlib.axes._subplots.AxesSubplot at 0x7f132adb8f28>"
            ]
          },
          "metadata": {
            "tags": []
          },
          "execution_count": 18
        },
        {
          "output_type": "display_data",
          "data": {
            "image/png": "[encoded data removed]",
            "text/plain": [
              "<Figure size 432x288 with 2 Axes>"
            ]
          },
          "metadata": {
            "tags": []
          }
        }
      ]
    }
  ]
}